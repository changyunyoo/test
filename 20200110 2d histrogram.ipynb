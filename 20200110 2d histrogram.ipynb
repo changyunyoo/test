{
 "cells": [
  {
   "cell_type": "code",
   "execution_count": 4,
   "metadata": {},
   "outputs": [],
   "source": [
    "from __future__ import print_function\n",
    "from ipywidgets import interact, interactive, fixed, interact_manual\n",
    "import ipywidgets as widgets\n",
    "import numpy as np\n",
    "import matplotlib.pyplot as plt \n",
    "import matplotlib\n",
    "import glob\n",
    "%matplotlib inline \n",
    "matplotlib.rcParams['figure.figsize'] = (10,8)\n",
    "matplotlib.rcParams['axes.labelsize'] = 30\n",
    "matplotlib.rcParams['axes.titlesize'] = 30\n",
    "matplotlib.rcParams['xtick.labelsize'] = 30\n",
    "matplotlib.rcParams['ytick.labelsize'] = 30\n",
    "matplotlib.rcParams['legend.fontsize'] = 20\n",
    "matplotlib.rcParams['legend.markerscale'] = 2\n",
    "\n",
    "\n"
   ]
  },
  {
   "cell_type": "code",
   "execution_count": 23,
   "metadata": {
    "scrolled": false
   },
   "outputs": [
    {
     "data": {
      "application/vnd.jupyter.widget-view+json": {
       "model_id": "1fb3ef7de28046d1aa45f90d0945f750",
       "version_major": 2,
       "version_minor": 0
      },
      "text/plain": [
       "interactive(children=(IntSlider(value=60, description='x', min=20, step=10), Output()), _dom_classes=('widget-…"
      ]
     },
     "metadata": {},
     "output_type": "display_data"
    },
    {
     "data": {
      "text/plain": [
       "<function __main__.plot2d(x)>"
      ]
     },
     "execution_count": 23,
     "metadata": {},
     "output_type": "execute_result"
    }
   ],
   "source": [
    "filename='202001_40nm_QW_660nm_L_25um2_AR_2_55THz.dat'\n",
    "\n",
    "templist = np.genfromtxt(filename,usecols=0,skip_footer=0)\n",
    "\n",
    "\n",
    "def plot2d(x): \n",
    "    \n",
    "    temp = np.genfromtxt(filename,usecols=0,skip_footer=0)\n",
    "    field = np.genfromtxt(filename,usecols=1,skip_footer=0) \n",
    "    ns = np.genfromtxt(filename,usecols=2,skip_footer=0)\n",
    "    f = np.genfromtxt(filename,usecols=3,skip_footer=0) \n",
    "    ReZ = np.genfromtxt(filename,usecols=4,skip_footer=0)\n",
    "    ImZ = np.genfromtxt(filename,usecols=5,skip_footer=0)\n",
    "    \n",
    "    a = np.where(temp == x)[0][0]\n",
    "    b = np.where(temp == x)[0][-1] \n",
    "\n",
    "    field = field[a:b+1]\n",
    "    ns = ns[a:b+1]\n",
    "    f = f[a:b+1]\n",
    "    ReZ = ReZ[a:b+1]\n",
    "    ImZ = ImZ[a:b+1]\n",
    "\n",
    "    ns = np.reshape(ns,(51,-1))\n",
    "    field = np.reshape(field,(51,-1))\n",
    "    f = np.reshape(f,(51,-1))\n",
    "    ReZ = np.reshape(ReZ,(51,-1))\n",
    "    ImZ = np.reshape(ImZ,(51,-1))\n",
    "\n",
    "    ReZant = 50 \n",
    "    ImZant = 0\n",
    "\n",
    "    plt.pcolormesh(field,ns,4*ReZ*ReZant/((ReZ+ReZant)**2+(ImZ+ImZant)**2),vmin=0, vmax=1)\n",
    "    cb = plt.colorbar()\n",
    "    cb.set_label('Absorption Efficiency')\n",
    "    plt.xlabel('$V_{T}-V_{B}$ (V)')\n",
    "    plt.ylabel('Charge Density')\n",
    "    #plt.xlim([-6,6])\n",
    "    #plt.xticks(np.arange(-5,6,2.5))\n",
    "    plt.show()\n",
    "\n",
    "interact(plot2d, x=(20,100,10))\n"
   ]
  },
  {
   "cell_type": "code",
   "execution_count": 21,
   "metadata": {},
   "outputs": [
    {
     "data": {
      "application/vnd.jupyter.widget-view+json": {
       "model_id": "1fd719beb851494b979bdabc7914ac56",
       "version_major": 2,
       "version_minor": 0
      },
      "text/plain": [
       "interactive(children=(IntSlider(value=60, description='x', min=20, step=10), Output()), _dom_classes=('widget-…"
      ]
     },
     "metadata": {},
     "output_type": "display_data"
    },
    {
     "data": {
      "text/plain": [
       "<function __main__.plot2d(x)>"
      ]
     },
     "execution_count": 21,
     "metadata": {},
     "output_type": "execute_result"
    }
   ],
   "source": [
    "filename='202001_40nm_QW_660nm_L_25um2_AR_2_55THz.dat'\n",
    "\n",
    "templist = np.genfromtxt(filename,usecols=0,skip_footer=0)\n",
    "\n",
    "\n",
    "def plot2d(x): \n",
    "    \n",
    "    temp = np.genfromtxt(filename,usecols=0,skip_footer=0)\n",
    "    field = np.genfromtxt(filename,usecols=1,skip_footer=0) \n",
    "    ns = np.genfromtxt(filename,usecols=2,skip_footer=0)\n",
    "    f = np.genfromtxt(filename,usecols=3,skip_footer=0) \n",
    "    ReZ = np.genfromtxt(filename,usecols=4,skip_footer=0)\n",
    "    ImZ = np.genfromtxt(filename,usecols=5,skip_footer=0)\n",
    "    \n",
    "    a = np.where(temp == x)[0][0]\n",
    "    b = np.where(temp == x)[0][-1] \n",
    "\n",
    "    field = field[a:b+1]\n",
    "    ns = ns[a:b+1]\n",
    "    f = f[a:b+1]\n",
    "    ReZ = ReZ[a:b+1]\n",
    "    ImZ = ImZ[a:b+1]\n",
    "\n",
    "    ns = np.reshape(ns,(51,-1))\n",
    "    field = np.reshape(field,(51,-1))\n",
    "    f = np.reshape(f,(51,-1))\n",
    "    ReZ = np.reshape(ReZ,(51,-1))\n",
    "    ImZ = np.reshape(ImZ,(51,-1))\n",
    "\n",
    "    ReZant = 50 \n",
    "    ImZant = 0\n",
    "\n",
    "    plt.pcolormesh(field,ns,ReZ,vmax = 20)\n",
    "    cb = plt.colorbar()\n",
    "    cb.set_label('ReZ (ohm)')\n",
    "    plt.xlabel('$V_{T}-V_{B}$ (V)')\n",
    "    plt.ylabel('Charge Density')\n",
    "    #plt.xlim([-6,6])\n",
    "    #plt.xticks(np.arange(-5,6,2.5))\n",
    "    plt.show()\n",
    "\n",
    "\n",
    "interact(plot2d,x=(20,100,10))\n"
   ]
  },
  {
   "cell_type": "code",
   "execution_count": 26,
   "metadata": {},
   "outputs": [
    {
     "data": {
      "application/vnd.jupyter.widget-view+json": {
       "model_id": "4094740bf2b04158b78fb6bfe60cd0f2",
       "version_major": 2,
       "version_minor": 0
      },
      "text/plain": [
       "interactive(children=(IntSlider(value=60, description='x', min=20, step=10), Output()), _dom_classes=('widget-…"
      ]
     },
     "metadata": {},
     "output_type": "display_data"
    },
    {
     "data": {
      "text/plain": [
       "<function __main__.plot2d(x)>"
      ]
     },
     "execution_count": 26,
     "metadata": {},
     "output_type": "execute_result"
    }
   ],
   "source": [
    "filename='202001_40nm_QW_660nm_L_25um2_AR_2_55THz.dat'\n",
    "\n",
    "templist = np.genfromtxt(filename,usecols=0,skip_footer=0)\n",
    "\n",
    "\n",
    "def plot2d(x): \n",
    "    \n",
    "    temp = np.genfromtxt(filename,usecols=0,skip_footer=0)\n",
    "    field = np.genfromtxt(filename,usecols=1,skip_footer=0) \n",
    "    ns = np.genfromtxt(filename,usecols=2,skip_footer=0)\n",
    "    f = np.genfromtxt(filename,usecols=3,skip_footer=0) \n",
    "    ReZ = np.genfromtxt(filename,usecols=4,skip_footer=0)\n",
    "    ImZ = np.genfromtxt(filename,usecols=5,skip_footer=0)\n",
    "    \n",
    "    a = np.where(temp == x)[0][0]\n",
    "    b = np.where(temp == x)[0][-1] \n",
    "\n",
    "    field = field[a:b+1]\n",
    "    ns = ns[a:b+1]\n",
    "    f = f[a:b+1]\n",
    "    ReZ = ReZ[a:b+1]\n",
    "    ImZ = ImZ[a:b+1]\n",
    "\n",
    "    ns = np.reshape(ns,(51,-1))\n",
    "    field = np.reshape(field,(51,-1))\n",
    "    f = np.reshape(f,(51,-1))\n",
    "    ReZ = np.reshape(ReZ,(51,-1))\n",
    "    ImZ = np.reshape(ImZ,(51,-1))\n",
    "\n",
    "    ReZant = 50 \n",
    "    ImZant = 0\n",
    "\n",
    "    plt.pcolormesh(field,ns,ImZ,vmin=-25,vmax=-5)\n",
    "    cb = plt.colorbar()\n",
    "    cb.set_label('ReZ (ohm)')\n",
    "    plt.xlabel('$V_{T}-V_{B}$ (V)')\n",
    "    plt.ylabel('Charge Density')\n",
    "    #plt.xlim([-6,6])\n",
    "    #plt.xticks(np.arange(-5,6,2.5))\n",
    "    plt.show()\n",
    "\n",
    "\n",
    "interact(plot2d,x=(20,100,10))\n"
   ]
  },
  {
   "cell_type": "code",
   "execution_count": null,
   "metadata": {},
   "outputs": [],
   "source": []
  }
 ],
 "metadata": {
  "kernelspec": {
   "display_name": "Python 3",
   "language": "python",
   "name": "python3"
  },
  "language_info": {
   "codemirror_mode": {
    "name": "ipython",
    "version": 3
   },
   "file_extension": ".py",
   "mimetype": "text/x-python",
   "name": "python",
   "nbconvert_exporter": "python",
   "pygments_lexer": "ipython3",
   "version": "3.7.3"
  }
 },
 "nbformat": 4,
 "nbformat_minor": 2
}
